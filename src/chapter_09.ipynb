{
 "cells": [
  {
   "cell_type": "markdown",
   "metadata": {},
   "source": [
    "# Chapter 9: Electrostatics for Salty Solutions"
   ]
  },
  {
   "cell_type": "markdown",
   "metadata": {},
   "source": [
    "(c) 2018 Manuel Razo. This work is licensed under a [Creative Commons Attribution License CC-BY 4.0](https://creativecommons.org/licenses/by/4.0/). All code contained herein is licensed under an [MIT license](https://opensource.org/licenses/MIT). \n",
    "\n",
    "---"
   ]
  },
  {
   "cell_type": "code",
   "execution_count": 1,
   "metadata": {},
   "outputs": [],
   "source": [
    "# Our numerical workhorses\n",
    "import numpy as np\n",
    "import scipy as sp\n",
    "import scipy.signal\n",
    "import pandas as pd\n",
    "import mpmath\n",
    "\n",
    "# Import matplotlib stuff for plotting\n",
    "import matplotlib.pyplot as plt\n",
    "import matplotlib.cm as cm\n",
    "from mpl_toolkits.mplot3d import Axes3D # For 3D plots\n",
    "\n",
    "# Seaborn, useful for graphics\n",
    "import seaborn as sns\n",
    "\n",
    "# Import the default plotting style\n",
    "import plotting_style as pstyle\n",
    "\n",
    "# Function to import and display images from the Garland website\n",
    "from IPython.display import Image\n",
    "\n",
    "# Magic function to make matplotlib inline\n",
    "%matplotlib inline\n",
    "\n",
    "# This enables SVG graphics inline. \n",
    "%config InlineBackend.figure_formats = {'png', 'retina'}\n",
    "\n",
    "# Define directories\n",
    "figdir = '../fig/'"
   ]
  },
  {
   "cell_type": "code",
   "execution_count": 2,
   "metadata": {},
   "outputs": [],
   "source": [
    "# Set plotting style\n",
    "pstyle.set_plotting_style()"
   ]
  },
  {
   "cell_type": "markdown",
   "metadata": {},
   "source": [
    "## 9.5 A simple model for viral capsid assembly"
   ]
  },
  {
   "cell_type": "markdown",
   "metadata": {},
   "source": [
    "(c) Carry out a numerical solution for $\\phi_n$, $n = 1,2,\\ldots,12$, as a function of $\\phi_T$ and $\\Delta\\varepsilon$􏰫. Plot $\\phi_n$ as a function of $n$ for\n",
    "$\\phi_T = \\phi_C$ and $\\Delta\\varepsilon = -1, -5,$ and $-10 \\; k_BT$. How are the capsomers distributed among the 12 different structures in each of these cases? What happens to the fraction of capsomers in complete capsids as the total volume fraction is varied from below to above $\\phi_C$, in the case 􏰫$\\Delta\\varepsilon = -5 \\; k_BT?$"
   ]
  },
  {
   "cell_type": "markdown",
   "metadata": {},
   "source": [
    "### Solution"
   ]
  },
  {
   "cell_type": "markdown",
   "metadata": {},
   "source": [
    "As derived earlier in the problem the volume fraction of the partially assembled capsid with $n$ capsomers is of the form\n",
    "$$\n",
    "\\phi_n = \\left( \\phi_1 \\right)^n e^{- \\varepsilon_n / k_BT},\n",
    "\\label{eq_vol_frac}\n",
    "$$\n",
    "where $\\varepsilon_n$ is the total energy of the interactions between $n$ of the capsomers. This energy is of the form\n",
    "$$\n",
    "\\varepsilon_n = \\sum_{m = 1}^n f_m \\Delta\\varepsilon,\n",
    "$$\n",
    "where $f_m$ is the number of additional contacts between capsomers created when a capsomer binds a structure of size $n - 1$ to form a structure of size $n$. These contacts are listed as\n",
    "$$\n",
    "f_n = \\begin{cases}\n",
    "1 \\; (n = 2),\\\\\n",
    "2 \\; (3 \\leq n \\leq 7),\\\\\n",
    "3 \\; (8 \\leq n \\leq 10),\\\\\n",
    "4 \\; (n = 11),\\\\\n",
    "5 \\; (n = 12).\n",
    "\\end{cases}\n",
    "$$"
   ]
  },
  {
   "cell_type": "markdown",
   "metadata": {},
   "source": [
    "To make things simpler further down let's define a function that computes this energy given a number of capsomers and a value for $\\Delta\\varepsilon$."
   ]
  },
  {
   "cell_type": "code",
   "execution_count": 3,
   "metadata": {},
   "outputs": [],
   "source": [
    "def epsilon_n(Depsilon, n=1):\n",
    "    '''\n",
    "    Function that returns the energy of a structure of size n viral capsomers\n",
    "    in kBT by adding the number of contacts between capsomers with energy \n",
    "    Depsilon.\n",
    "    Parameters\n",
    "    ----------\n",
    "    Depsilon: float.\n",
    "        Energy of interaction between contacts\n",
    "    n : int. Default 1\n",
    "        Number of capsomers in structure\n",
    "    \n",
    "    Returns\n",
    "    -------\n",
    "    Energy of interactions between capsomers in kBT\n",
    "    '''\n",
    "    # Create dictionary with number of contacts when adding a new capsomer to\n",
    "    # a structure of size n - 1 to form a structure of size n\n",
    "    fn = {1: 0, \n",
    "          2: 1, 3: 2, 4: 2, 5: 2, 6: 2, 7: 2,\n",
    "          8: 3, 9: 3, 10: 3,\n",
    "          11: 4,\n",
    "          12: 5}\n",
    "    \n",
    "    # Extract the energy of each capsomer contribution\n",
    "    return np.sum([fn[x] * Depsilon for x in range(1, n + 1)])"
   ]
  },
  {
   "cell_type": "markdown",
   "metadata": {},
   "source": [
    "In the problem we also derived a relationship for $\\phi_C$ the critical volume fraction in which, if we assume that there are only two structures contributing significantly to the volume fraction, these being the single capsomers and the fully assembled dodecahedron, then at this volume fraction half of the capsomers are forming fully formed capsids. This function was found to be of the form\n",
    "$$\n",
    "\\ln \\left( {\\phi_C \\over 2} \\right) = {\\varepsilon_{12} \\over 11 k_BT}.\n",
    "$$\n",
    "\n",
    "Solving for $\\phi_C$ this gives\n",
    "$$\n",
    "\\phi_C = 2 e^{\\varepsilon_{12} \\over 11 k_BT}.\n",
    "$$\n",
    "\n",
    "By assumption at this critical concentration the individual capsomers volume fraction $\\phi_1$ and the fully assembled capsids $\\phi_{12}$ occupy half of the total volume fraction. Therefore we can use $\\phi_C / 2 = \\phi_1$ along Eq. \\ref{eq_vol_frac} to compute the volume fraction for the other partially assembled capsids. Let's first define a function that computes the volume fraction as given by Eq. \\ref{eq_vol_frac}."
   ]
  },
  {
   "cell_type": "code",
   "execution_count": 4,
   "metadata": {},
   "outputs": [],
   "source": [
    "def phi_n(Depsilon, n, phi_1):\n",
    "    '''\n",
    "    Function that computes the volume fraction occupied by a structure formed\n",
    "    out of n capsomers given the volume fraction occupied by the single\n",
    "    monomers in solution.\n",
    "    Parameters\n",
    "    ----------\n",
    "    Depsilon: float.\n",
    "        Energy of interaction between contacts\n",
    "    n : int. Default 1\n",
    "        Number of capsomers in structure\n",
    "    phi_1 : float [0, 1]\n",
    "        Volume fraction of individual capsomers\n",
    "    \n",
    "    Returns\n",
    "    -------\n",
    "    Volume fraction of structure with n capsomers\n",
    "    '''\n",
    "    # Compute and return the volume fraction\n",
    "    return phi_1**n * np.exp(- epsilon_n(Depsilon, n))"
   ]
  },
  {
   "cell_type": "markdown",
   "metadata": {},
   "source": [
    "With these functions in hand and a value of $\\phi_1 = \\phi_C / 2$ let's compute the volume fraction for each partially assembled structure."
   ]
  },
  {
   "cell_type": "code",
   "execution_count": 5,
   "metadata": {},
   "outputs": [
    {
     "data": {
      "text/html": [
       "<div>\n",
       "<style scoped>\n",
       "    .dataframe tbody tr th:only-of-type {\n",
       "        vertical-align: middle;\n",
       "    }\n",
       "\n",
       "    .dataframe tbody tr th {\n",
       "        vertical-align: top;\n",
       "    }\n",
       "\n",
       "    .dataframe thead th {\n",
       "        text-align: right;\n",
       "    }\n",
       "</style>\n",
       "<table border=\"1\" class=\"dataframe\">\n",
       "  <thead>\n",
       "    <tr style=\"text-align: right;\">\n",
       "      <th></th>\n",
       "      <th>n</th>\n",
       "      <th>Depsilon</th>\n",
       "      <th>phi_n</th>\n",
       "      <th>phi_c</th>\n",
       "    </tr>\n",
       "  </thead>\n",
       "  <tbody>\n",
       "    <tr>\n",
       "      <th>0</th>\n",
       "      <td>1.0</td>\n",
       "      <td>-1.0</td>\n",
       "      <td>0.071621</td>\n",
       "      <td>0.143242</td>\n",
       "    </tr>\n",
       "    <tr>\n",
       "      <th>1</th>\n",
       "      <td>2.0</td>\n",
       "      <td>-1.0</td>\n",
       "      <td>0.013944</td>\n",
       "      <td>0.143242</td>\n",
       "    </tr>\n",
       "    <tr>\n",
       "      <th>2</th>\n",
       "      <td>3.0</td>\n",
       "      <td>-1.0</td>\n",
       "      <td>0.007379</td>\n",
       "      <td>0.143242</td>\n",
       "    </tr>\n",
       "    <tr>\n",
       "      <th>3</th>\n",
       "      <td>4.0</td>\n",
       "      <td>-1.0</td>\n",
       "      <td>0.003905</td>\n",
       "      <td>0.143242</td>\n",
       "    </tr>\n",
       "    <tr>\n",
       "      <th>4</th>\n",
       "      <td>5.0</td>\n",
       "      <td>-1.0</td>\n",
       "      <td>0.002067</td>\n",
       "      <td>0.143242</td>\n",
       "    </tr>\n",
       "  </tbody>\n",
       "</table>\n",
       "</div>"
      ],
      "text/plain": [
       "     n  Depsilon     phi_n     phi_c\n",
       "0  1.0      -1.0  0.071621  0.143242\n",
       "1  2.0      -1.0  0.013944  0.143242\n",
       "2  3.0      -1.0  0.007379  0.143242\n",
       "3  4.0      -1.0  0.003905  0.143242\n",
       "4  5.0      -1.0  0.002067  0.143242"
      ]
     },
     "execution_count": 5,
     "metadata": {},
     "output_type": "execute_result"
    }
   ],
   "source": [
    "# Define energies for individual contacts\n",
    "Depsilon = [-1, -5, -10]\n",
    "\n",
    "# Define names for columns of tidy data frame\n",
    "names = ['n', 'Depsilon', 'phi_n', 'phi_c']\n",
    "# Initialize dataframe\n",
    "df = pd.DataFrame(columns=names)\n",
    "\n",
    "# Loop through each binding energy computing the volume fraction of each \n",
    "# structure\n",
    "for de in Depsilon:\n",
    "    # Define fraction of monomers\n",
    "    phi_1 = np.exp(epsilon_n(de, 12) / 11)\n",
    "    # Loop through each individual capsomer\n",
    "    for n in range(1, 13):\n",
    "        # Compute the volume fraction\n",
    "        phi = phi_n(de, n, phi_1)\n",
    "        # Save results in Series to append to dataframe\n",
    "        series = pd.Series([n, de, phi, phi_1 * 2], index=names)\n",
    "        # Append to data frame\n",
    "        df = df.append(series, ignore_index=True)\n",
    "        \n",
    "# Let's look at the dataframe\n",
    "df.head()"
   ]
  },
  {
   "cell_type": "markdown",
   "metadata": {},
   "source": [
    "Let's now plot these fractions"
   ]
  },
  {
   "cell_type": "code",
   "execution_count": 6,
   "metadata": {},
   "outputs": [
    {
     "data": {
      "image/png": "[encoded data removed]",
      "text/plain": [
       "<Figure size 288x216 with 1 Axes>"
      ]
     },
     "metadata": {
      "image/png": {
       "height": 200,
       "width": 270
      }
     },
     "output_type": "display_data"
    }
   ],
   "source": [
    "# Group dataframe by energy of single contact\n",
    "df_group = df.groupby('Depsilon')\n",
    "\n",
    "# Define markers for each group\n",
    "markers = ['o', 'v', 's']\n",
    "\n",
    "# Initialize figure\n",
    "# Loop through groups plotting volume fraction\n",
    "for i, (group, data) in enumerate(df_group):\n",
    "    plt.plot(data.n, data.phi_n / data.phi_c,\n",
    "             lw=0, marker=markers[i], markersize=4,\n",
    "             label=group)\n",
    "    \n",
    "# Set y scale to be log\n",
    "plt.yscale('log')\n",
    "\n",
    "\n",
    "# Label axis\n",
    "plt.xlabel(r'number of capsomers $n$')\n",
    "plt.ylabel(r'$\\phi_n / \\phi_T$')\n",
    "\n",
    "# set legend\n",
    "plt.legend(title=r'$\\Delta\\varepsilon \\; (k_BT)$')\n",
    "\n",
    "# save figure\n",
    "plt.tight_layout()\n",
    "plt.savefig(figdir + 'problem_09_05_01.png', bbox_inches='tight')"
   ]
  },
  {
   "cell_type": "markdown",
   "metadata": {},
   "source": [
    "Let's now explore for the case of $\\Delta\\varepsilon = -5 \\; k_BT$ how the volume fraction of complete capsids changes as we go below and above the critical volume fraction $\\phi_C$."
   ]
  },
  {
   "cell_type": "code",
   "execution_count": 7,
   "metadata": {},
   "outputs": [
    {
     "name": "stdout",
     "output_type": "stream",
     "text": [
      "phi_C(-5 kBT) =  3.7691124777631935e-06\n"
     ]
    }
   ],
   "source": [
    "# Compute the critical volume fraction for -5 kBT\n",
    "phi_c = 2 * np.exp(epsilon_n(-5, 12) / 11)\n",
    "\n",
    "# Print critical volume fraction\n",
    "print('phi_C(-5 kBT) = ', phi_c)"
   ]
  },
  {
   "cell_type": "markdown",
   "metadata": {},
   "source": [
    "Given that it is a small number we can vary this critical volume fraction to be 100 times larger and smaller."
   ]
  },
  {
   "cell_type": "code",
   "execution_count": 8,
   "metadata": {},
   "outputs": [
    {
     "data": {
      "image/png": "[encoded data removed]",
      "text/plain": [
       "<Figure size 288x216 with 1 Axes>"
      ]
     },
     "metadata": {
      "image/png": {
       "height": 194,
       "width": 268
      }
     },
     "output_type": "display_data"
    }
   ],
   "source": [
    "# Define range of fractions to be used for phi_1\n",
    "phi_1_array = np.logspace(-2, 2, 100) * phi_c / 2\n",
    "\n",
    "# Compute the volume fraction of the complete capsids\n",
    "phi_n_array = phi_n(-5, 12, phi_1_array)\n",
    "\n",
    "# Plot result\n",
    "plt.loglog(phi_1_array / (phi_c / 2), phi_n_array / (phi_c / 2))\n",
    "\n",
    "# Label axis\n",
    "plt.xlabel(r'$\\phi_1 \\; / \\; \\phi_1^C$')\n",
    "plt.ylabel(r'$\\phi_{12} \\; / \\; \\phi_1^C $')\n",
    "\n",
    "# Save figure\n",
    "plt.tight_layout()\n",
    "plt.savefig(figdir + 'problem_09_05_02.png', bbox_inches='tight')"
   ]
  },
  {
   "cell_type": "markdown",
   "metadata": {},
   "source": [
    "## 9.7 Poisson–Boltzmann revisited"
   ]
  },
  {
   "cell_type": "markdown",
   "metadata": {},
   "source": [
    "(b) Plot the electric potential and the concentrations of positive and negative charges as functions of the distance from the charged plane, assuming that the charge on the plane is one electron per 100 nm$^2$ , and $c_\\infty$ = 100 mM."
   ]
  },
  {
   "cell_type": "markdown",
   "metadata": {},
   "source": [
    "### Solution"
   ]
  },
  {
   "cell_type": "markdown",
   "metadata": {},
   "source": [
    "On part (a) we found out that the solution of the linearized Poission-Boltzmann equation for the potential $V(x)$ is given by\n",
    "$$\n",
    "V(x) = {\\sigma \\lambda_D \\over \\varepsilon_o D} e^{-x / \\lambda_D},\n",
    "$$\n",
    "where $x$ is the distance from the charged plane, $\\sigma \\equiv e/a$ is the charge per unit area of the plane, $\\lambda_D$ is the Debye length, $\\varepsilon_o$ is the permittivity of free space, $D$ is the dielectric constant. We also found that the Debye length is given by\n",
    "$$\n",
    "\\lambda_D = \\sqrt{\\varepsilon_o D k_BT \\over 2 (ze)^2 c_\\infty}.\n",
    "$$\n",
    "\n",
    "Under this linear regime the positive and negative charge concentrations as a function of the distance from the charged plane is given by\n",
    "$$\n",
    "c_{\\pm} \\approx c_\\infty \\left( 1 \\mp {z e \\over k_BT}\n",
    "        {\\sigma \\lambda_D \\over \\varepsilon_o D} e^{-x / \\lambda_D} \\right),\n",
    "$$\n",
    "where $c_\\infty$ represents the ion concentration far away from the charged plane. Let's define all these quantities."
   ]
  },
  {
   "cell_type": "code",
   "execution_count": 17,
   "metadata": {},
   "outputs": [],
   "source": [
    "# Define parameters to plot ion concentration\n",
    "c_inf = 100E-3 * 6.022E23 * 1000 # number / m**3\n",
    "eps_D = 80 * 8.85E-12  # C**2 / N m**2\n",
    "kBT = 4E-21  # J = N * m\n",
    "z = 1  # monovalent ions\n",
    "e_charge = 1.6E-19  # C"
   ]
  },
  {
   "cell_type": "markdown",
   "metadata": {},
   "source": [
    "Having defined these variables let's estimate the Debye length $\\lambda_D$"
   ]
  },
  {
   "cell_type": "code",
   "execution_count": 18,
   "metadata": {},
   "outputs": [
    {
     "name": "stdout",
     "output_type": "stream",
     "text": [
      "lambda_D ≈ 0.96 nm\n"
     ]
    }
   ],
   "source": [
    "lam_D = np.sqrt(eps_D * kBT / 2 / (z * e_charge)**2 / c_inf) * 1E9\n",
    "print('lambda_D ≈ {:.2f} nm'.format(lam_D))"
   ]
  },
  {
   "cell_type": "markdown",
   "metadata": {},
   "source": [
    "Also on part (a) we found that the area must satisfy the condition\n",
    "$$\n",
    "a \\gg {z e^2 \\over k_BT}{\\lambda_D \\over \\varepsilon_o D}.\n",
    "$$\n",
    "Using the values that we just define this gives"
   ]
  },
  {
   "cell_type": "code",
   "execution_count": 21,
   "metadata": {},
   "outputs": [
    {
     "name": "stdout",
     "output_type": "stream",
     "text": [
      "area >> 8.66 nm**2\n"
     ]
    }
   ],
   "source": [
    "a_condition = z * e_charge**2 / kBT * (lam_D / 1E9) / eps_D * (1E9)**2\n",
    "\n",
    "print('area >> {:.2f} nm**2'.format(a_condition))"
   ]
  },
  {
   "cell_type": "code",
   "execution_count": null,
   "metadata": {},
   "outputs": [],
   "source": []
  }
 ],
 "metadata": {
  "kernelspec": {
   "display_name": "Python 3",
   "language": "python",
   "name": "python3"
  },
  "language_info": {
   "codemirror_mode": {
    "name": "ipython",
    "version": 3
   },
   "file_extension": ".py",
   "mimetype": "text/x-python",
   "name": "python",
   "nbconvert_exporter": "python",
   "pygments_lexer": "ipython3",
   "version": "3.6.6"
  },
  "latex_envs": {
   "LaTeX_envs_menu_present": false,
   "autoclose": false,
   "autocomplete": false,
   "bibliofile": "biblio.bib",
   "cite_by": "apalike",
   "current_citInitial": 1,
   "eqLabelWithNumbers": true,
   "eqNumInitial": 1,
   "hotkeys": {
    "equation": "Ctrl-E",
    "itemize": "Ctrl-I"
   },
   "labels_anchors": false,
   "latex_user_defs": false,
   "report_style_numbering": false,
   "user_envs_cfg": false
  },
  "toc": {
   "nav_menu": {},
   "number_sections": false,
   "sideBar": false,
   "skip_h1_title": true,
   "title_cell": "Table of Contents",
   "title_sidebar": "Contents",
   "toc_cell": false,
   "toc_position": {},
   "toc_section_display": true,
   "toc_window_display": false
  }
 },
 "nbformat": 4,
 "nbformat_minor": 2
}
